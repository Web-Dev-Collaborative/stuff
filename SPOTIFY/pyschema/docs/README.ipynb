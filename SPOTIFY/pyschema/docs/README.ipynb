{
 "metadata": {
  "name": "",
  "signature": "sha256:2dfe493d4f63265794508d0e231320b881efad2092d4ef460ad1aa329c6a7f9c"
 },
 "nbformat": 3,
 "nbformat_minor": 0,
 "worksheets": [
  {
   "cells": [
    {
     "cell_type": "markdown",
     "metadata": {},
     "source": [
      "#PySchema\n",
      "\n",
      "PySchema is a library for Python class declaration with typed fields that can be introspected and have data contracts associated with them. This allows for better data integrity checks when serializing/deserializing data and safe interaction with external tools that require typed data.\n",
      "\n",
      "The foremost design principle when creating the library was to keep the definitions very concise and easy to read. Inspiration was taken from Django's ORM and the main use cases in mind has been database interaction (Postgres) and Apache Avro schema/datum generation.\n",
      "\n",
      "It has been tested on Python 2.6 and Python 2.7"
     ]
    },
    {
     "cell_type": "heading",
     "level": 3,
     "metadata": {},
     "source": [
      "API Reference"
     ]
    },
    {
     "cell_type": "raw",
     "metadata": {},
     "source": [
      "\n",
      ".. toctree::\n",
      "   _api/pyschema\n",
      "\n",
      ".. toctree::\n",
      "   _api_extensions/pyschema_extensions\n"
     ]
    },
    {
     "cell_type": "markdown",
     "metadata": {},
     "source": [
      "##Usage\n",
      "The `Record` base class is the easiest way to define schemas. Typed fields in the schema are defined using subclasses of `Field`. Standard field types are defined in `pyschema.types` and are also aliased in the pyschema package. "
     ]
    },
    {
     "cell_type": "code",
     "collapsed": false,
     "input": [
      "from pyschema import Record, dumps, loads\n",
      "from pyschema.types import *"
     ],
     "language": "python",
     "metadata": {},
     "outputs": [],
     "prompt_number": 1
    },
    {
     "cell_type": "markdown",
     "metadata": {},
     "source": [
      "####Declaration\n",
      "To define a schema, use a Python class declaration inheriting from `pyschema.Record`.\n"
     ]
    },
    {
     "cell_type": "code",
     "collapsed": false,
     "input": [
      "class MyRecord(Record):\n",
      "    foo = Text()\n",
      "    bar = Integer()"
     ],
     "language": "python",
     "metadata": {},
     "outputs": [],
     "prompt_number": 2
    },
    {
     "cell_type": "markdown",
     "metadata": {},
     "source": [
      "####Class instantiation\n",
      "Like a typical Python class instantiation. All fields are keyword arguments to the constructor of the record."
     ]
    },
    {
     "cell_type": "code",
     "collapsed": false,
     "input": [
      "r = MyRecord(foo=\"hej\", bar=3)"
     ],
     "language": "python",
     "metadata": {},
     "outputs": [],
     "prompt_number": 3
    },
    {
     "cell_type": "markdown",
     "metadata": {},
     "source": [
      "####Member access"
     ]
    },
    {
     "cell_type": "code",
     "collapsed": false,
     "input": [
      "r.foo"
     ],
     "language": "python",
     "metadata": {},
     "outputs": [
      {
       "metadata": {},
       "output_type": "pyout",
       "prompt_number": 4,
       "text": [
        "'hej'"
       ]
      }
     ],
     "prompt_number": 4
    },
    {
     "cell_type": "markdown",
     "metadata": {},
     "source": [
      "####Default string representation/repr"
     ]
    },
    {
     "cell_type": "code",
     "collapsed": false,
     "input": [
      "print r"
     ],
     "language": "python",
     "metadata": {},
     "outputs": [
      {
       "output_type": "stream",
       "stream": "stdout",
       "text": [
        "MyRecord(foo='hej', bar=3)\n"
       ]
      }
     ],
     "prompt_number": 5
    },
    {
     "cell_type": "markdown",
     "metadata": {},
     "source": [
      "####Simple json serialization\n",
      "Creates a json compatible string representing the object. A special `$schema` field is added to the json to allow parsing of the record without prior knowledge of the which schema to use. The name of this special field can be set to something else using the `pyschema.core.set_schema_name_field`"
     ]
    },
    {
     "cell_type": "code",
     "collapsed": false,
     "input": [
      "s = dumps(r)\n",
      "print s"
     ],
     "language": "python",
     "metadata": {},
     "outputs": [
      {
       "output_type": "stream",
       "stream": "stdout",
       "text": [
        "{\"$schema\": \"MyRecord\", \"foo\": \"hej\", \"bar\": 3}\n"
       ]
      }
     ],
     "prompt_number": 6
    },
    {
     "cell_type": "markdown",
     "metadata": {},
     "source": [
      "####... and deserialization"
     ]
    },
    {
     "cell_type": "code",
     "collapsed": false,
     "input": [
      "o = loads(s)\n",
      "print o.bar"
     ],
     "language": "python",
     "metadata": {},
     "outputs": [
      {
       "output_type": "stream",
       "stream": "stdout",
       "text": [
        "3\n"
       ]
      }
     ],
     "prompt_number": 7
    },
    {
     "cell_type": "markdown",
     "metadata": {},
     "source": [
      "## Built-in types\n",
      "PySchema comes with a standard set of field types that can be used to represent the most commonly used data types\n",
      "\n",
      "* `Text`\n",
      "* `Integer`\n",
      "* `Float`\n",
      "* `Bytes` - for binary data, the equivalent of Python < 3 `str` or Python 3 `bytes`\n",
      "* `Boolean` - True or False\n",
      "* `Date` - `datetime.date` objects\n",
      "* `DateTime` - `datetime.datetime` objects\n",
      "* `Enum` - only allows a preset of text values (specified as an arguemnt to the constructor)\n",
      "* `List`\n",
      "* `Map`\n",
      "* `SubRecord`"
     ]
    },
    {
     "cell_type": "markdown",
     "metadata": {},
     "source": [
      "###Complex types\n",
      "Some types function as containers for other types.\n",
      "\n",
      "####List\n",
      "Lists allow storage of ordered sequences of a single type of data, specified as an argument to the field constructor"
     ]
    },
    {
     "cell_type": "code",
     "collapsed": false,
     "input": [
      "class RecordWithList(Record):\n",
      "    foo = List(Integer())\n",
      "\n",
      "RecordWithList(foo=[1, 2, 3])"
     ],
     "language": "python",
     "metadata": {},
     "outputs": [
      {
       "metadata": {},
       "output_type": "pyout",
       "prompt_number": 8,
       "text": [
        "RecordWithList(foo=[1, 2, 3])"
       ]
      }
     ],
     "prompt_number": 8
    },
    {
     "cell_type": "markdown",
     "metadata": {},
     "source": [
      "####Map\n",
      "Storage for dictionaries mapping from strings to values of a single type, specified as an argument to the field constructor"
     ]
    },
    {
     "cell_type": "code",
     "collapsed": false,
     "input": [
      "class RecordWithMap(Record):\n",
      "    foo = Map(Boolean())\n",
      "\n",
      "RecordWithMap(foo={u\"word\": True})"
     ],
     "language": "python",
     "metadata": {},
     "outputs": [
      {
       "metadata": {},
       "output_type": "pyout",
       "prompt_number": 9,
       "text": [
        "RecordWithMap(foo={u'word': True})"
       ]
      }
     ],
     "prompt_number": 9
    },
    {
     "cell_type": "markdown",
     "metadata": {},
     "source": [
      "####SubRecord\n",
      "SubRecords allow for nesting of records, i.e. storing records of some sort as fields in other records. SubRecord takes an argument being the schema (i.e. Record class) of the intended stored object. Recursive nesting can also be used by supplying `pyschema.SELF` as the schema type to SubRecord, in which case the field accepts records of the parent record type."
     ]
    },
    {
     "cell_type": "code",
     "collapsed": false,
     "input": [
      "class NestedRecord(Record):\n",
      "    foo = SubRecord(MyRecord)  # MyRecord is defined above...\n",
      "    \n",
      "NestedRecord(foo=MyRecord(foo=\"foo\", bar=5))"
     ],
     "language": "python",
     "metadata": {},
     "outputs": [
      {
       "metadata": {},
       "output_type": "pyout",
       "prompt_number": 10,
       "text": [
        "NestedRecord(foo=MyRecord(foo='foo', bar=5))"
       ]
      }
     ],
     "prompt_number": 10
    },
    {
     "cell_type": "code",
     "collapsed": false,
     "input": [
      "class NestedSelfRecord(Record):\n",
      "    foo = SubRecord(SELF)\n",
      "    bar = Text()\n",
      "\n",
      "NestedSelfRecord(foo=NestedSelfRecord(foo=None, bar=\"Second\"), bar=\"First\")"
     ],
     "language": "python",
     "metadata": {},
     "outputs": [
      {
       "metadata": {},
       "output_type": "pyout",
       "prompt_number": 11,
       "text": [
        "NestedSelfRecord(foo=NestedSelfRecord(foo=None, bar='Second'), bar='First')"
       ]
      }
     ],
     "prompt_number": 11
    },
    {
     "cell_type": "markdown",
     "metadata": {},
     "source": [
      "Complex types are field types just like any other, so they can be combined to create complex data structures"
     ]
    },
    {
     "cell_type": "code",
     "collapsed": false,
     "input": [
      "class Part(Record):\n",
      "    value = Integer()\n",
      "    good = Boolean()\n",
      "    attributes = List(Text())\n",
      "\n",
      "class AdvancedRecord(Record):\n",
      "    name = Text()\n",
      "    parts = Map(SubRecord(Part))\n",
      "    \n",
      "AdvancedRecord(\n",
      "    name=u\"tool_1\",\n",
      "    parts={\n",
      "        u\"moo\": Part(\n",
      "            value=u\"buzz\",\n",
      "            good=False,\n",
      "            attributes=[\"something\", \"other\"]\n",
      "        )\n",
      "    }\n",
      ")"
     ],
     "language": "python",
     "metadata": {},
     "outputs": [
      {
       "metadata": {},
       "output_type": "pyout",
       "prompt_number": 12,
       "text": [
        "AdvancedRecord(name=u'tool_1', parts={u'moo': Part(value=u'buzz', good=False, attributes=['something', 'other'])})"
       ]
      }
     ],
     "prompt_number": 12
    },
    {
     "cell_type": "markdown",
     "metadata": {},
     "source": [
      "###Defaults\n",
      "All fields are optional in the constructor, left-out fields are `None` by default, except for the `Map` and `List` types where they default to their respective empty containers `{}` and `[]`."
     ]
    },
    {
     "cell_type": "markdown",
     "metadata": {},
     "source": [
      "MyRecord(bar=10)"
     ]
    },
    {
     "cell_type": "code",
     "collapsed": false,
     "input": [
      "class OtherRecord(Record):\n",
      "    bar = Map(Float())\n",
      "    baz = List(Integer())"
     ],
     "language": "python",
     "metadata": {},
     "outputs": [],
     "prompt_number": 13
    },
    {
     "cell_type": "code",
     "collapsed": false,
     "input": [
      "OtherRecord()"
     ],
     "language": "python",
     "metadata": {},
     "outputs": [
      {
       "metadata": {},
       "output_type": "pyout",
       "prompt_number": 14,
       "text": [
        "OtherRecord(bar={}, baz=[])"
       ]
      }
     ],
     "prompt_number": 14
    },
    {
     "cell_type": "markdown",
     "metadata": {},
     "source": [
      "Fails at serialization time when types don't match"
     ]
    },
    {
     "cell_type": "code",
     "collapsed": false,
     "input": [
      "broken_record = MyRecord(foo=5) # object creation works with any types (to allow for temporary unallowed values)"
     ],
     "language": "python",
     "metadata": {},
     "outputs": [],
     "prompt_number": 15
    },
    {
     "cell_type": "code",
     "collapsed": false,
     "input": [
      "print broken_record  # repr format also still works"
     ],
     "language": "python",
     "metadata": {},
     "outputs": [
      {
       "output_type": "stream",
       "stream": "stdout",
       "text": [
        "MyRecord(foo=5, bar=None)\n"
       ]
      }
     ],
     "prompt_number": 16
    },
    {
     "cell_type": "code",
     "collapsed": false,
     "input": [
      "print dumps(broken_record)  # raises an Exception because 5 isn't a text format"
     ],
     "language": "python",
     "metadata": {},
     "outputs": [
      {
       "ename": "ValueError",
       "evalue": "5 is not a valid UTF-8 string",
       "output_type": "pyerr",
       "traceback": [
        "\u001b[0;31m---------------------------------------------------------------------------\u001b[0m\n\u001b[0;31mValueError\u001b[0m                                Traceback (most recent call last)",
        "\u001b[0;32m<ipython-input-17-92114c8b8749>\u001b[0m in \u001b[0;36m<module>\u001b[0;34m()\u001b[0m\n\u001b[0;32m----> 1\u001b[0;31m \u001b[0;32mprint\u001b[0m \u001b[0mdumps\u001b[0m\u001b[0;34m(\u001b[0m\u001b[0mbroken_record\u001b[0m\u001b[0;34m)\u001b[0m  \u001b[0;31m# raises an Exception because 5 isn't a text format\u001b[0m\u001b[0;34m\u001b[0m\u001b[0m\n\u001b[0m",
        "\u001b[0;32m/Users/freider/Code/spotify/pyschema/pyschema/core.py\u001b[0m in \u001b[0;36mdumps\u001b[0;34m(obj, attach_schema_name)\u001b[0m\n\u001b[1;32m    494\u001b[0m \u001b[0;34m\u001b[0m\u001b[0m\n\u001b[1;32m    495\u001b[0m \u001b[0;32mdef\u001b[0m \u001b[0mdumps\u001b[0m\u001b[0;34m(\u001b[0m\u001b[0mobj\u001b[0m\u001b[0;34m,\u001b[0m \u001b[0mattach_schema_name\u001b[0m\u001b[0;34m=\u001b[0m\u001b[0mTrue\u001b[0m\u001b[0;34m)\u001b[0m\u001b[0;34m:\u001b[0m\u001b[0;34m\u001b[0m\u001b[0m\n\u001b[0;32m--> 496\u001b[0;31m     \u001b[0mjson_dct\u001b[0m \u001b[0;34m=\u001b[0m \u001b[0mto_json_compatible\u001b[0m\u001b[0;34m(\u001b[0m\u001b[0mobj\u001b[0m\u001b[0;34m)\u001b[0m\u001b[0;34m\u001b[0m\u001b[0m\n\u001b[0m\u001b[1;32m    497\u001b[0m     \u001b[0;32mif\u001b[0m \u001b[0mattach_schema_name\u001b[0m\u001b[0;34m:\u001b[0m\u001b[0;34m\u001b[0m\u001b[0m\n\u001b[1;32m    498\u001b[0m         \u001b[0mjson_dct\u001b[0m\u001b[0;34m[\u001b[0m\u001b[0mSCHEMA_FIELD_NAME\u001b[0m\u001b[0;34m]\u001b[0m \u001b[0;34m=\u001b[0m \u001b[0mobj\u001b[0m\u001b[0;34m.\u001b[0m\u001b[0m_schema_name\u001b[0m\u001b[0;34m\u001b[0m\u001b[0m\n",
        "\u001b[0;32m/Users/freider/Code/spotify/pyschema/pyschema/core.py\u001b[0m in \u001b[0;36mto_json_compatible\u001b[0;34m(record)\u001b[0m\n\u001b[1;32m    384\u001b[0m         \u001b[0mval\u001b[0m \u001b[0;34m=\u001b[0m \u001b[0mgetattr\u001b[0m\u001b[0;34m(\u001b[0m\u001b[0mrecord\u001b[0m\u001b[0;34m,\u001b[0m \u001b[0mfname\u001b[0m\u001b[0;34m)\u001b[0m\u001b[0;34m\u001b[0m\u001b[0m\n\u001b[1;32m    385\u001b[0m         \u001b[0;32mif\u001b[0m \u001b[0mval\u001b[0m \u001b[0;32mis\u001b[0m \u001b[0;32mnot\u001b[0m \u001b[0mNone\u001b[0m\u001b[0;34m:\u001b[0m\u001b[0;34m\u001b[0m\u001b[0m\n\u001b[0;32m--> 386\u001b[0;31m             \u001b[0md\u001b[0m\u001b[0;34m[\u001b[0m\u001b[0mfname\u001b[0m\u001b[0;34m]\u001b[0m \u001b[0;34m=\u001b[0m \u001b[0mf\u001b[0m\u001b[0;34m.\u001b[0m\u001b[0mdump\u001b[0m\u001b[0;34m(\u001b[0m\u001b[0mval\u001b[0m\u001b[0;34m)\u001b[0m\u001b[0;34m\u001b[0m\u001b[0m\n\u001b[0m\u001b[1;32m    387\u001b[0m     \u001b[0;32mreturn\u001b[0m \u001b[0md\u001b[0m\u001b[0;34m\u001b[0m\u001b[0m\n\u001b[1;32m    388\u001b[0m \u001b[0;34m\u001b[0m\u001b[0m\n",
        "\u001b[0;32m/Users/freider/Code/spotify/pyschema/pyschema/types.pyc\u001b[0m in \u001b[0;36mdump\u001b[0;34m(self, obj)\u001b[0m\n\u001b[1;32m     34\u001b[0m             \u001b[0;32mexcept\u001b[0m\u001b[0;34m:\u001b[0m\u001b[0;34m\u001b[0m\u001b[0m\n\u001b[1;32m     35\u001b[0m                 raise ValueError(\n\u001b[0;32m---> 36\u001b[0;31m                     \u001b[0;34m\"%r is not a valid UTF-8 string\"\u001b[0m \u001b[0;34m%\u001b[0m \u001b[0mobj\u001b[0m\u001b[0;34m\u001b[0m\u001b[0m\n\u001b[0m\u001b[1;32m     37\u001b[0m                 )\n\u001b[1;32m     38\u001b[0m \u001b[0;34m\u001b[0m\u001b[0m\n",
        "\u001b[0;31mValueError\u001b[0m: 5 is not a valid UTF-8 string"
       ]
      }
     ],
     "prompt_number": 17
    },
    {
     "cell_type": "markdown",
     "metadata": {},
     "source": [
      "## Extending PySchema"
     ]
    },
    {
     "cell_type": "markdown",
     "metadata": {},
     "source": [
      "### Create new custom `Field` types"
     ]
    },
    {
     "cell_type": "code",
     "collapsed": false,
     "input": [
      "import datetime\n",
      "\n",
      "class Date(Field):\n",
      "    def dump(self, obj):\n",
      "        return obj.strftime(\"%Y-%m-%d\")\n",
      "    \n",
      "    def load(self, text):\n",
      "        return datetime.date(*(int(part) for part in text.split('-')))"
     ],
     "language": "python",
     "metadata": {},
     "outputs": [],
     "prompt_number": 18
    },
    {
     "cell_type": "code",
     "collapsed": false,
     "input": [
      "class MyOtherRecord(Record):\n",
      "    date = Date()"
     ],
     "language": "python",
     "metadata": {},
     "outputs": [],
     "prompt_number": 19
    },
    {
     "cell_type": "code",
     "collapsed": false,
     "input": [
      "s = dumps(MyOtherRecord(date=datetime.date(2013, 10, 7)))\n",
      "print \"Serialized:\", s\n",
      "print \"Reloaded:\", repr(loads(s).date)"
     ],
     "language": "python",
     "metadata": {},
     "outputs": [
      {
       "output_type": "stream",
       "stream": "stdout",
       "text": [
        "Serialized: {\"date\": \"2013-10-07\", \"$schema\": \"MyOtherRecord\"}\n",
        "Reloaded: datetime.date(2013, 10, 7)\n"
       ]
      }
     ],
     "prompt_number": 20
    },
    {
     "cell_type": "markdown",
     "metadata": {},
     "source": [
      "### Add mixins on existing field types to simplify adding functionality while maintaining OO structure"
     ]
    },
    {
     "cell_type": "code",
     "collapsed": false,
     "input": [
      "Text.postgres_type = \"TEXT\"\n",
      "Integer.postgres_type = \"INTEGER\"\n",
      "\n",
      "@List.mixin\n",
      "class ListPostgresMixin:\n",
      "    @property\n",
      "    def postgres_type(self):\n",
      "        return self.field_type.postgres_type + \" ARRAY\""
     ],
     "language": "python",
     "metadata": {},
     "outputs": [],
     "prompt_number": 21
    },
    {
     "cell_type": "code",
     "collapsed": false,
     "input": [
      "def create_table_from_record(schema):\n",
      "    parts = []\n",
      "    for name, field_type in schema._fields.iteritems():\n",
      "        parts.append(\"%s %s\" % (name, field_type.postgres_type))\n",
      "    return \"CREATE TABLE %s (\" % (schema._schema_name,) + \", \".join(parts) + \")\""
     ],
     "language": "python",
     "metadata": {},
     "outputs": [],
     "prompt_number": 22
    },
    {
     "cell_type": "code",
     "collapsed": false,
     "input": [
      "class MyTable(Record):\n",
      "    list_name = Text()\n",
      "    numbers = List(Integer())\n",
      "\n",
      "create_table_from_record(MyTable)"
     ],
     "language": "python",
     "metadata": {},
     "outputs": [
      {
       "metadata": {},
       "output_type": "pyout",
       "prompt_number": 23,
       "text": [
        "'CREATE TABLE MyTable (list_name TEXT, numbers INTEGER ARRAY)'"
       ]
      }
     ],
     "prompt_number": 23
    },
    {
     "cell_type": "markdown",
     "metadata": {},
     "source": [
      "The following will trigger an error since we haven't mixed in the `postgres_type` field for the `Map` field type in this example."
     ]
    },
    {
     "cell_type": "code",
     "collapsed": false,
     "input": [
      "class Impossibru(Record):\n",
      "    numbers = Map(Integer())\n",
      "    \n",
      "create_table_from_record(Impossibru)"
     ],
     "language": "python",
     "metadata": {},
     "outputs": [
      {
       "ename": "AttributeError",
       "evalue": "'Map' object has no attribute 'postgres_type'",
       "output_type": "pyerr",
       "traceback": [
        "\u001b[0;31m---------------------------------------------------------------------------\u001b[0m\n\u001b[0;31mAttributeError\u001b[0m                            Traceback (most recent call last)",
        "\u001b[0;32m<ipython-input-24-65f7b1968e1a>\u001b[0m in \u001b[0;36m<module>\u001b[0;34m()\u001b[0m\n\u001b[1;32m      2\u001b[0m     \u001b[0mnumbers\u001b[0m \u001b[0;34m=\u001b[0m \u001b[0mMap\u001b[0m\u001b[0;34m(\u001b[0m\u001b[0mInteger\u001b[0m\u001b[0;34m(\u001b[0m\u001b[0;34m)\u001b[0m\u001b[0;34m)\u001b[0m\u001b[0;34m\u001b[0m\u001b[0m\n\u001b[1;32m      3\u001b[0m \u001b[0;34m\u001b[0m\u001b[0m\n\u001b[0;32m----> 4\u001b[0;31m \u001b[0mcreate_table_from_record\u001b[0m\u001b[0;34m(\u001b[0m\u001b[0mImpossibru\u001b[0m\u001b[0;34m)\u001b[0m\u001b[0;34m\u001b[0m\u001b[0m\n\u001b[0m",
        "\u001b[0;32m<ipython-input-22-61f11a5f0ce7>\u001b[0m in \u001b[0;36mcreate_table_from_record\u001b[0;34m(schema)\u001b[0m\n\u001b[1;32m      2\u001b[0m     \u001b[0mparts\u001b[0m \u001b[0;34m=\u001b[0m \u001b[0;34m[\u001b[0m\u001b[0;34m]\u001b[0m\u001b[0;34m\u001b[0m\u001b[0m\n\u001b[1;32m      3\u001b[0m     \u001b[0;32mfor\u001b[0m \u001b[0mname\u001b[0m\u001b[0;34m,\u001b[0m \u001b[0mfield_type\u001b[0m \u001b[0;32min\u001b[0m \u001b[0mschema\u001b[0m\u001b[0;34m.\u001b[0m\u001b[0m_fields\u001b[0m\u001b[0;34m.\u001b[0m\u001b[0miteritems\u001b[0m\u001b[0;34m(\u001b[0m\u001b[0;34m)\u001b[0m\u001b[0;34m:\u001b[0m\u001b[0;34m\u001b[0m\u001b[0m\n\u001b[0;32m----> 4\u001b[0;31m         \u001b[0mparts\u001b[0m\u001b[0;34m.\u001b[0m\u001b[0mappend\u001b[0m\u001b[0;34m(\u001b[0m\u001b[0;34m\"%s %s\"\u001b[0m \u001b[0;34m%\u001b[0m \u001b[0;34m(\u001b[0m\u001b[0mname\u001b[0m\u001b[0;34m,\u001b[0m \u001b[0mfield_type\u001b[0m\u001b[0;34m.\u001b[0m\u001b[0mpostgres_type\u001b[0m\u001b[0;34m)\u001b[0m\u001b[0;34m)\u001b[0m\u001b[0;34m\u001b[0m\u001b[0m\n\u001b[0m\u001b[1;32m      5\u001b[0m     \u001b[0;32mreturn\u001b[0m \u001b[0;34m\"CREATE TABLE %s (\"\u001b[0m \u001b[0;34m%\u001b[0m \u001b[0;34m(\u001b[0m\u001b[0mschema\u001b[0m\u001b[0;34m.\u001b[0m\u001b[0m_schema_name\u001b[0m\u001b[0;34m,\u001b[0m\u001b[0;34m)\u001b[0m \u001b[0;34m+\u001b[0m \u001b[0;34m\", \"\u001b[0m\u001b[0;34m.\u001b[0m\u001b[0mjoin\u001b[0m\u001b[0;34m(\u001b[0m\u001b[0mparts\u001b[0m\u001b[0;34m)\u001b[0m \u001b[0;34m+\u001b[0m \u001b[0;34m\")\"\u001b[0m\u001b[0;34m\u001b[0m\u001b[0m\n",
        "\u001b[0;31mAttributeError\u001b[0m: 'Map' object has no attribute 'postgres_type'"
       ]
      }
     ],
     "prompt_number": 24
    },
    {
     "cell_type": "markdown",
     "metadata": {},
     "source": [
      "## Under the hood\n",
      "In this section, a brief explanation of the underlying architecture of the package is presented."
     ]
    },
    {
     "cell_type": "markdown",
     "metadata": {},
     "source": [
      "### Declaration\n",
      "PySchema utilizes a Schema metaclass for the Record class that hooks into the class declaration logic of the python interpreter.\n",
      "\n",
      "When a subclass of Record is _declared_, the metaclass will go through the class properties and create some helper variables needed for schema introspection and general setup. To be able to keep ordering of fields, a counter is increased every time a Field is declared and this is used a the sorting key in the ordered schema.\n",
      "\n",
      "The metaclass is responsible for setting up the following magic variables on the schema _class_:\n",
      "* `_fields` - contains an OrderedDict of (_name_, _field_) mappings, where _name_ is the field name and _field_ is the Field instance, i.e. the type definition instance for the field. E.g. `(\"foo\", Integer(size=4))`\n",
      "* `_schema_name` - the name of the schema. Typically the same as the class name."
     ]
    },
    {
     "cell_type": "markdown",
     "metadata": {},
     "source": [
      "### Instantiation\n",
      "When a Record is instantiated, a new object is created where each field is filled with its default value."
     ]
    }
   ],
   "metadata": {}
  }
 ]
}